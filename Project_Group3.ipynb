{
 "cells": [
  {
   "cell_type": "markdown",
   "id": "ed5f2893",
   "metadata": {},
   "source": [
    "# Problem Statement"
   ]
  },
  {
   "cell_type": "markdown",
   "id": "984ca72e",
   "metadata": {},
   "source": [
    "The Tunisian Company of Electricity and Gas (STEG) is a public and a non-administrative company, \n",
    "it is responsible for delivering electricity and gas across Tunisia. The company suffered tremendous \n",
    "losses in the order of 200 million Tunisian Dinars due to fraudulent manipulations of meters by \n",
    "consumers. Using the client’s billing history, the aim of the challenge is to detect and recognize clients \n",
    "involved in fraudulent activities.\n",
    "The solution will enhance the company’s revenues and reduce the losses caused by such fraudulent \n",
    "activities."
   ]
  },
  {
   "cell_type": "markdown",
   "id": "1c825d89",
   "metadata": {},
   "source": [
    "# Description of dataset"
   ]
  },
  {
   "cell_type": "markdown",
   "id": "3d90dd0d",
   "metadata": {},
   "source": [
    "The data provided by STEG is composed of two files. The first one is comprised of client data and the \n",
    "second one contains billing history since 2005.\n",
    "The data inputs are Client.csv which has information about client like ID, Category, Location, account \n",
    "creation date and Target (Fraud or not) and Invoice.csv which has invoice information like Client ID, \n",
    "Invoice date, Tarif type, Consumption detail and Month detail.\n",
    "Dataset Source: Fraud Detection in Electricity and Gas Consumption Data - ZINDI"
   ]
  },
  {
   "cell_type": "markdown",
   "id": "95cf86f9",
   "metadata": {},
   "source": [
    "# Variable definitions"
   ]
  },
  {
   "cell_type": "raw",
   "id": "0fbb010a",
   "metadata": {},
   "source": [
    "Client data\n",
    "Client_id: Unique id for client\n",
    "District: District where the client is\n",
    "Client_catg: Category client belongs to\n",
    "Region: Area where the client is\n",
    "Creation_date: Date client joined\n",
    "Target: fraud:1 , not fraud: 0\n",
    "\n",
    "Invoice data\n",
    "Client_id: Unique id for the client\n",
    "Invoice_date: Date of the invoice\n",
    "Tarif_type: Type of tax\n",
    "Counter_number:\n",
    "Counter_statue: takes up to 5 values such as working fine, not working, on hold statue, ect\n",
    "Counter_code:\n",
    "Reading_remarque: notes that the STEG agent takes during his visit to the client (e.g: If the counter shows something wrong, the agent gives a bad score)\n",
    "Counter_coefficient: An additional coefficient to be added when standard consumption is exceeded\n",
    "Consommation_level_1: Consumption_level_1\n",
    "Consommation_level_2: Consumption_level_2\n",
    "Consommation_level_3: Consumption_level_3\n",
    "Consommation_level_4: Consumption_level_4\n",
    "Old_index: Old index\n",
    "New_index: New index\n",
    "Months_number: Month number\n",
    "Counter_type: Type of counter"
   ]
  },
  {
   "cell_type": "code",
   "execution_count": 31,
   "id": "7021df21",
   "metadata": {},
   "outputs": [],
   "source": [
    "import pandas as pd\n",
    "import numpy as np\n",
    "import os\n",
    "import matplotlib.pyplot as plt\n",
    "import seaborn as sns\n",
    "%matplotlib inline"
   ]
  },
  {
   "cell_type": "code",
   "execution_count": 32,
   "id": "bbecce39",
   "metadata": {},
   "outputs": [],
   "source": [
    "# low memory is set to false to avoid  warnings - Since we have huge amount of data\n",
    "client_train = pd.read_csv(\"client_train.csv\", low_memory=False)\n",
    "invoice_train = pd.read_csv('invoice_train.csv', low_memory=False)"
   ]
  },
  {
   "cell_type": "code",
   "execution_count": 33,
   "id": "51477065",
   "metadata": {},
   "outputs": [
    {
     "data": {
      "text/html": [
       "<div>\n",
       "<style scoped>\n",
       "    .dataframe tbody tr th:only-of-type {\n",
       "        vertical-align: middle;\n",
       "    }\n",
       "\n",
       "    .dataframe tbody tr th {\n",
       "        vertical-align: top;\n",
       "    }\n",
       "\n",
       "    .dataframe thead th {\n",
       "        text-align: right;\n",
       "    }\n",
       "</style>\n",
       "<table border=\"1\" class=\"dataframe\">\n",
       "  <thead>\n",
       "    <tr style=\"text-align: right;\">\n",
       "      <th></th>\n",
       "      <th>disrict</th>\n",
       "      <th>client_id</th>\n",
       "      <th>client_catg</th>\n",
       "      <th>region</th>\n",
       "      <th>creation_date</th>\n",
       "      <th>target</th>\n",
       "    </tr>\n",
       "  </thead>\n",
       "  <tbody>\n",
       "    <tr>\n",
       "      <th>12639</th>\n",
       "      <td>60</td>\n",
       "      <td>train_Client_111371</td>\n",
       "      <td>11</td>\n",
       "      <td>101</td>\n",
       "      <td>24/03/2010</td>\n",
       "      <td>0.0</td>\n",
       "    </tr>\n",
       "    <tr>\n",
       "      <th>96335</th>\n",
       "      <td>69</td>\n",
       "      <td>train_Client_64756</td>\n",
       "      <td>51</td>\n",
       "      <td>103</td>\n",
       "      <td>02/03/2016</td>\n",
       "      <td>0.0</td>\n",
       "    </tr>\n",
       "    <tr>\n",
       "      <th>33211</th>\n",
       "      <td>60</td>\n",
       "      <td>train_Client_129888</td>\n",
       "      <td>11</td>\n",
       "      <td>101</td>\n",
       "      <td>10/10/2016</td>\n",
       "      <td>0.0</td>\n",
       "    </tr>\n",
       "    <tr>\n",
       "      <th>75340</th>\n",
       "      <td>60</td>\n",
       "      <td>train_Client_45860</td>\n",
       "      <td>11</td>\n",
       "      <td>101</td>\n",
       "      <td>16/10/1997</td>\n",
       "      <td>0.0</td>\n",
       "    </tr>\n",
       "    <tr>\n",
       "      <th>39170</th>\n",
       "      <td>62</td>\n",
       "      <td>train_Client_13525</td>\n",
       "      <td>11</td>\n",
       "      <td>301</td>\n",
       "      <td>16/06/2008</td>\n",
       "      <td>0.0</td>\n",
       "    </tr>\n",
       "    <tr>\n",
       "      <th>88997</th>\n",
       "      <td>60</td>\n",
       "      <td>train_Client_58151</td>\n",
       "      <td>11</td>\n",
       "      <td>101</td>\n",
       "      <td>10/10/2013</td>\n",
       "      <td>0.0</td>\n",
       "    </tr>\n",
       "    <tr>\n",
       "      <th>99942</th>\n",
       "      <td>63</td>\n",
       "      <td>train_Client_68001</td>\n",
       "      <td>11</td>\n",
       "      <td>312</td>\n",
       "      <td>20/09/1990</td>\n",
       "      <td>0.0</td>\n",
       "    </tr>\n",
       "    <tr>\n",
       "      <th>104116</th>\n",
       "      <td>62</td>\n",
       "      <td>train_Client_71759</td>\n",
       "      <td>11</td>\n",
       "      <td>310</td>\n",
       "      <td>07/02/2002</td>\n",
       "      <td>0.0</td>\n",
       "    </tr>\n",
       "    <tr>\n",
       "      <th>21375</th>\n",
       "      <td>62</td>\n",
       "      <td>train_Client_119234</td>\n",
       "      <td>11</td>\n",
       "      <td>304</td>\n",
       "      <td>22/08/2014</td>\n",
       "      <td>0.0</td>\n",
       "    </tr>\n",
       "    <tr>\n",
       "      <th>40679</th>\n",
       "      <td>60</td>\n",
       "      <td>train_Client_14665</td>\n",
       "      <td>51</td>\n",
       "      <td>101</td>\n",
       "      <td>04/05/2013</td>\n",
       "      <td>0.0</td>\n",
       "    </tr>\n",
       "  </tbody>\n",
       "</table>\n",
       "</div>"
      ],
      "text/plain": [
       "        disrict            client_id  client_catg  region creation_date  \\\n",
       "12639        60  train_Client_111371           11     101    24/03/2010   \n",
       "96335        69   train_Client_64756           51     103    02/03/2016   \n",
       "33211        60  train_Client_129888           11     101    10/10/2016   \n",
       "75340        60   train_Client_45860           11     101    16/10/1997   \n",
       "39170        62   train_Client_13525           11     301    16/06/2008   \n",
       "88997        60   train_Client_58151           11     101    10/10/2013   \n",
       "99942        63   train_Client_68001           11     312    20/09/1990   \n",
       "104116       62   train_Client_71759           11     310    07/02/2002   \n",
       "21375        62  train_Client_119234           11     304    22/08/2014   \n",
       "40679        60   train_Client_14665           51     101    04/05/2013   \n",
       "\n",
       "        target  \n",
       "12639      0.0  \n",
       "96335      0.0  \n",
       "33211      0.0  \n",
       "75340      0.0  \n",
       "39170      0.0  \n",
       "88997      0.0  \n",
       "99942      0.0  \n",
       "104116     0.0  \n",
       "21375      0.0  \n",
       "40679      0.0  "
      ]
     },
     "execution_count": 33,
     "metadata": {},
     "output_type": "execute_result"
    }
   ],
   "source": [
    "client_train.sample(10)"
   ]
  },
  {
   "cell_type": "code",
   "execution_count": 34,
   "id": "568c8370",
   "metadata": {},
   "outputs": [
    {
     "data": {
      "text/html": [
       "<div>\n",
       "<style scoped>\n",
       "    .dataframe tbody tr th:only-of-type {\n",
       "        vertical-align: middle;\n",
       "    }\n",
       "\n",
       "    .dataframe tbody tr th {\n",
       "        vertical-align: top;\n",
       "    }\n",
       "\n",
       "    .dataframe thead th {\n",
       "        text-align: right;\n",
       "    }\n",
       "</style>\n",
       "<table border=\"1\" class=\"dataframe\">\n",
       "  <thead>\n",
       "    <tr style=\"text-align: right;\">\n",
       "      <th></th>\n",
       "      <th>count</th>\n",
       "      <th>mean</th>\n",
       "      <th>std</th>\n",
       "      <th>min</th>\n",
       "      <th>25%</th>\n",
       "      <th>50%</th>\n",
       "      <th>75%</th>\n",
       "      <th>max</th>\n",
       "    </tr>\n",
       "  </thead>\n",
       "  <tbody>\n",
       "    <tr>\n",
       "      <th>disrict</th>\n",
       "      <td>135493.0</td>\n",
       "      <td>63.511222</td>\n",
       "      <td>3.354400</td>\n",
       "      <td>60.0</td>\n",
       "      <td>62.0</td>\n",
       "      <td>62.0</td>\n",
       "      <td>69.0</td>\n",
       "      <td>69.0</td>\n",
       "    </tr>\n",
       "    <tr>\n",
       "      <th>client_catg</th>\n",
       "      <td>135493.0</td>\n",
       "      <td>11.512506</td>\n",
       "      <td>4.423761</td>\n",
       "      <td>11.0</td>\n",
       "      <td>11.0</td>\n",
       "      <td>11.0</td>\n",
       "      <td>11.0</td>\n",
       "      <td>51.0</td>\n",
       "    </tr>\n",
       "    <tr>\n",
       "      <th>region</th>\n",
       "      <td>135493.0</td>\n",
       "      <td>206.159809</td>\n",
       "      <td>104.207044</td>\n",
       "      <td>101.0</td>\n",
       "      <td>103.0</td>\n",
       "      <td>107.0</td>\n",
       "      <td>307.0</td>\n",
       "      <td>399.0</td>\n",
       "    </tr>\n",
       "    <tr>\n",
       "      <th>target</th>\n",
       "      <td>135493.0</td>\n",
       "      <td>0.055841</td>\n",
       "      <td>0.229614</td>\n",
       "      <td>0.0</td>\n",
       "      <td>0.0</td>\n",
       "      <td>0.0</td>\n",
       "      <td>0.0</td>\n",
       "      <td>1.0</td>\n",
       "    </tr>\n",
       "  </tbody>\n",
       "</table>\n",
       "</div>"
      ],
      "text/plain": [
       "                count        mean         std    min    25%    50%    75%  \\\n",
       "disrict      135493.0   63.511222    3.354400   60.0   62.0   62.0   69.0   \n",
       "client_catg  135493.0   11.512506    4.423761   11.0   11.0   11.0   11.0   \n",
       "region       135493.0  206.159809  104.207044  101.0  103.0  107.0  307.0   \n",
       "target       135493.0    0.055841    0.229614    0.0    0.0    0.0    0.0   \n",
       "\n",
       "               max  \n",
       "disrict       69.0  \n",
       "client_catg   51.0  \n",
       "region       399.0  \n",
       "target         1.0  "
      ]
     },
     "execution_count": 34,
     "metadata": {},
     "output_type": "execute_result"
    }
   ],
   "source": [
    "client_train.describe().T"
   ]
  },
  {
   "cell_type": "code",
   "execution_count": 35,
   "id": "0640b5b9",
   "metadata": {},
   "outputs": [
    {
     "data": {
      "text/html": [
       "<div>\n",
       "<style scoped>\n",
       "    .dataframe tbody tr th:only-of-type {\n",
       "        vertical-align: middle;\n",
       "    }\n",
       "\n",
       "    .dataframe tbody tr th {\n",
       "        vertical-align: top;\n",
       "    }\n",
       "\n",
       "    .dataframe thead th {\n",
       "        text-align: right;\n",
       "    }\n",
       "</style>\n",
       "<table border=\"1\" class=\"dataframe\">\n",
       "  <thead>\n",
       "    <tr style=\"text-align: right;\">\n",
       "      <th></th>\n",
       "      <th>count</th>\n",
       "      <th>mean</th>\n",
       "      <th>std</th>\n",
       "      <th>min</th>\n",
       "      <th>25%</th>\n",
       "      <th>50%</th>\n",
       "      <th>75%</th>\n",
       "      <th>max</th>\n",
       "    </tr>\n",
       "  </thead>\n",
       "  <tbody>\n",
       "    <tr>\n",
       "      <th>tarif_type</th>\n",
       "      <td>4476749.0</td>\n",
       "      <td>2.012804e+01</td>\n",
       "      <td>1.347256e+01</td>\n",
       "      <td>8.0</td>\n",
       "      <td>11.0</td>\n",
       "      <td>11.0</td>\n",
       "      <td>40.0</td>\n",
       "      <td>4.500000e+01</td>\n",
       "    </tr>\n",
       "    <tr>\n",
       "      <th>counter_number</th>\n",
       "      <td>4476749.0</td>\n",
       "      <td>1.230587e+11</td>\n",
       "      <td>1.657267e+12</td>\n",
       "      <td>0.0</td>\n",
       "      <td>121108.0</td>\n",
       "      <td>494561.0</td>\n",
       "      <td>1115161.0</td>\n",
       "      <td>2.798115e+13</td>\n",
       "    </tr>\n",
       "    <tr>\n",
       "      <th>counter_code</th>\n",
       "      <td>4476749.0</td>\n",
       "      <td>1.724884e+02</td>\n",
       "      <td>1.338871e+02</td>\n",
       "      <td>0.0</td>\n",
       "      <td>5.0</td>\n",
       "      <td>203.0</td>\n",
       "      <td>207.0</td>\n",
       "      <td>6.000000e+02</td>\n",
       "    </tr>\n",
       "    <tr>\n",
       "      <th>reading_remarque</th>\n",
       "      <td>4476749.0</td>\n",
       "      <td>7.321702e+00</td>\n",
       "      <td>1.571654e+00</td>\n",
       "      <td>5.0</td>\n",
       "      <td>6.0</td>\n",
       "      <td>8.0</td>\n",
       "      <td>9.0</td>\n",
       "      <td>4.130000e+02</td>\n",
       "    </tr>\n",
       "    <tr>\n",
       "      <th>counter_coefficient</th>\n",
       "      <td>4476749.0</td>\n",
       "      <td>1.003040e+00</td>\n",
       "      <td>3.083466e-01</td>\n",
       "      <td>0.0</td>\n",
       "      <td>1.0</td>\n",
       "      <td>1.0</td>\n",
       "      <td>1.0</td>\n",
       "      <td>5.000000e+01</td>\n",
       "    </tr>\n",
       "    <tr>\n",
       "      <th>consommation_level_1</th>\n",
       "      <td>4476749.0</td>\n",
       "      <td>4.109795e+02</td>\n",
       "      <td>7.573080e+02</td>\n",
       "      <td>0.0</td>\n",
       "      <td>79.0</td>\n",
       "      <td>274.0</td>\n",
       "      <td>600.0</td>\n",
       "      <td>9.999100e+05</td>\n",
       "    </tr>\n",
       "    <tr>\n",
       "      <th>consommation_level_2</th>\n",
       "      <td>4476749.0</td>\n",
       "      <td>1.093225e+02</td>\n",
       "      <td>1.220123e+03</td>\n",
       "      <td>0.0</td>\n",
       "      <td>0.0</td>\n",
       "      <td>0.0</td>\n",
       "      <td>0.0</td>\n",
       "      <td>9.990730e+05</td>\n",
       "    </tr>\n",
       "    <tr>\n",
       "      <th>consommation_level_3</th>\n",
       "      <td>4476749.0</td>\n",
       "      <td>2.030620e+01</td>\n",
       "      <td>1.574239e+02</td>\n",
       "      <td>0.0</td>\n",
       "      <td>0.0</td>\n",
       "      <td>0.0</td>\n",
       "      <td>0.0</td>\n",
       "      <td>6.449200e+04</td>\n",
       "    </tr>\n",
       "    <tr>\n",
       "      <th>consommation_level_4</th>\n",
       "      <td>4476749.0</td>\n",
       "      <td>5.292588e+01</td>\n",
       "      <td>8.754725e+02</td>\n",
       "      <td>0.0</td>\n",
       "      <td>0.0</td>\n",
       "      <td>0.0</td>\n",
       "      <td>0.0</td>\n",
       "      <td>5.479460e+05</td>\n",
       "    </tr>\n",
       "    <tr>\n",
       "      <th>old_index</th>\n",
       "      <td>4476749.0</td>\n",
       "      <td>1.776700e+04</td>\n",
       "      <td>4.036693e+04</td>\n",
       "      <td>0.0</td>\n",
       "      <td>1791.0</td>\n",
       "      <td>7690.0</td>\n",
       "      <td>21660.0</td>\n",
       "      <td>2.800280e+06</td>\n",
       "    </tr>\n",
       "    <tr>\n",
       "      <th>new_index</th>\n",
       "      <td>4476749.0</td>\n",
       "      <td>1.834970e+04</td>\n",
       "      <td>4.095321e+04</td>\n",
       "      <td>0.0</td>\n",
       "      <td>2056.0</td>\n",
       "      <td>8192.0</td>\n",
       "      <td>22343.0</td>\n",
       "      <td>2.870972e+06</td>\n",
       "    </tr>\n",
       "    <tr>\n",
       "      <th>months_number</th>\n",
       "      <td>4476749.0</td>\n",
       "      <td>4.483095e+01</td>\n",
       "      <td>3.128335e+03</td>\n",
       "      <td>0.0</td>\n",
       "      <td>4.0</td>\n",
       "      <td>4.0</td>\n",
       "      <td>4.0</td>\n",
       "      <td>6.366240e+05</td>\n",
       "    </tr>\n",
       "  </tbody>\n",
       "</table>\n",
       "</div>"
      ],
      "text/plain": [
       "                          count          mean           std  min       25%  \\\n",
       "tarif_type            4476749.0  2.012804e+01  1.347256e+01  8.0      11.0   \n",
       "counter_number        4476749.0  1.230587e+11  1.657267e+12  0.0  121108.0   \n",
       "counter_code          4476749.0  1.724884e+02  1.338871e+02  0.0       5.0   \n",
       "reading_remarque      4476749.0  7.321702e+00  1.571654e+00  5.0       6.0   \n",
       "counter_coefficient   4476749.0  1.003040e+00  3.083466e-01  0.0       1.0   \n",
       "consommation_level_1  4476749.0  4.109795e+02  7.573080e+02  0.0      79.0   \n",
       "consommation_level_2  4476749.0  1.093225e+02  1.220123e+03  0.0       0.0   \n",
       "consommation_level_3  4476749.0  2.030620e+01  1.574239e+02  0.0       0.0   \n",
       "consommation_level_4  4476749.0  5.292588e+01  8.754725e+02  0.0       0.0   \n",
       "old_index             4476749.0  1.776700e+04  4.036693e+04  0.0    1791.0   \n",
       "new_index             4476749.0  1.834970e+04  4.095321e+04  0.0    2056.0   \n",
       "months_number         4476749.0  4.483095e+01  3.128335e+03  0.0       4.0   \n",
       "\n",
       "                           50%        75%           max  \n",
       "tarif_type                11.0       40.0  4.500000e+01  \n",
       "counter_number        494561.0  1115161.0  2.798115e+13  \n",
       "counter_code             203.0      207.0  6.000000e+02  \n",
       "reading_remarque           8.0        9.0  4.130000e+02  \n",
       "counter_coefficient        1.0        1.0  5.000000e+01  \n",
       "consommation_level_1     274.0      600.0  9.999100e+05  \n",
       "consommation_level_2       0.0        0.0  9.990730e+05  \n",
       "consommation_level_3       0.0        0.0  6.449200e+04  \n",
       "consommation_level_4       0.0        0.0  5.479460e+05  \n",
       "old_index               7690.0    21660.0  2.800280e+06  \n",
       "new_index               8192.0    22343.0  2.870972e+06  \n",
       "months_number              4.0        4.0  6.366240e+05  "
      ]
     },
     "execution_count": 35,
     "metadata": {},
     "output_type": "execute_result"
    }
   ],
   "source": [
    "invoice_train.describe().T"
   ]
  },
  {
   "cell_type": "code",
   "execution_count": 36,
   "id": "ea96463e",
   "metadata": {},
   "outputs": [
    {
     "data": {
      "image/png": "[encoded data removed]",
      "text/plain": [
       "<Figure size 432x288 with 1 Axes>"
      ]
     },
     "metadata": {
      "needs_background": "light"
     },
     "output_type": "display_data"
    }
   ],
   "source": [
    "ds = client_train.groupby(['target'])['client_id'].count()\n",
    "plt.bar(x=ds.index, height=ds.values, tick_label =[0,1])\n",
    "plt.title('target distribution')\n",
    "plt.show()"
   ]
  },
  {
   "cell_type": "markdown",
   "id": "3debb7c9",
   "metadata": {},
   "source": [
    "We can see that there is huge imbalance in the target column, So we will be generating synthetic minority class oversampling"
   ]
  },
  {
   "cell_type": "code",
   "execution_count": 37,
   "id": "099947e0",
   "metadata": {},
   "outputs": [
    {
     "data": {
      "image/png": "[encoded data removed]",
      "text/plain": [
       "<Figure size 432x288 with 1 Axes>"
      ]
     },
     "metadata": {
      "needs_background": "light"
     },
     "output_type": "display_data"
    },
    {
     "data": {
      "image/png": "[encoded data removed]",
      "text/plain": [
       "<Figure size 432x288 with 1 Axes>"
      ]
     },
     "metadata": {
      "needs_background": "light"
     },
     "output_type": "display_data"
    },
    {
     "data": {
      "image/png": "[encoded data removed]",
      "text/plain": [
       "<Figure size 432x288 with 1 Axes>"
      ]
     },
     "metadata": {
      "needs_background": "light"
     },
     "output_type": "display_data"
    }
   ],
   "source": [
    "# Data distribution for columns 'disrict','region','client_catg'\n",
    "for col in ['disrict','region','client_catg']:\n",
    "    ds = client_train.groupby([col])['client_id'].count()\n",
    "    plt.bar(x=ds.index, height=ds.values)\n",
    "    plt.title(col+' distribution')\n",
    "    plt.show()"
   ]
  },
  {
   "cell_type": "code",
   "execution_count": 38,
   "id": "2eb1eec0",
   "metadata": {},
   "outputs": [],
   "source": [
    "#Label encoding the counter_type - Electricity : 0 and Gas : 1\n",
    "d={\"ELEC\":0,\"GAZ\":1}\n",
    "invoice_train['counter_type']=invoice_train['counter_type'].map(d)"
   ]
  },
  {
   "cell_type": "code",
   "execution_count": 39,
   "id": "4336d63e",
   "metadata": {},
   "outputs": [],
   "source": [
    "client_train['client_catg'] = client_train['client_catg'].astype('object')\n",
    "client_train['disrict'] = client_train['disrict'].astype('object')\n",
    "\n",
    "client_train['client_catg'] = client_train['client_catg'].astype('object')\n",
    "client_train['disrict'] = client_train['disrict'].astype('object')"
   ]
  },
  {
   "cell_type": "code",
   "execution_count": 40,
   "id": "532071ce",
   "metadata": {},
   "outputs": [
    {
     "data": {
      "text/plain": [
       "0    3079406\n",
       "1    1397343\n",
       "Name: counter_type, dtype: int64"
      ]
     },
     "execution_count": 40,
     "metadata": {},
     "output_type": "execute_result"
    }
   ],
   "source": [
    "invoice_train['counter_type'].value_counts()"
   ]
  },
  {
   "cell_type": "code",
   "execution_count": 41,
   "id": "d2328502",
   "metadata": {},
   "outputs": [],
   "source": [
    "#changing the invoice date to datetime - \n",
    "for df in [invoice_train]:\n",
    "    df['invoice_date'] = pd.to_datetime(df['invoice_date'])"
   ]
  },
  {
   "cell_type": "code",
   "execution_count": 42,
   "id": "30473d3e",
   "metadata": {},
   "outputs": [],
   "source": [
    "#we groupby the invoice data according to the client_id then we take the mean of the consommation_levels for each client\n",
    "aggs = {}\n",
    "aggs['consommation_level_1'] = ['mean']\n",
    "aggs['consommation_level_2'] = ['mean']\n",
    "aggs['consommation_level_3'] = ['mean']\n",
    "aggs['consommation_level_4'] = ['mean']"
   ]
  },
  {
   "cell_type": "code",
   "execution_count": 43,
   "id": "c93c2aae",
   "metadata": {},
   "outputs": [],
   "source": [
    "agg_trans = invoice_train.groupby(['client_id']).agg(aggs)\n",
    "agg_trans.columns = ['_'.join(col).strip() for col in agg_trans.columns.values]\n",
    "agg_trans.reset_index(inplace=True)\n",
    "df = (invoice_train.groupby('client_id').size().reset_index(name='{}transactions_count'.format('1')))\n",
    "agg_trans = pd.merge(df, agg_trans, on='client_id', how='left')"
   ]
  },
  {
   "cell_type": "code",
   "execution_count": 44,
   "id": "6fb8a2c1",
   "metadata": {},
   "outputs": [
    {
     "data": {
      "text/html": [
       "<div>\n",
       "<style scoped>\n",
       "    .dataframe tbody tr th:only-of-type {\n",
       "        vertical-align: middle;\n",
       "    }\n",
       "\n",
       "    .dataframe tbody tr th {\n",
       "        vertical-align: top;\n",
       "    }\n",
       "\n",
       "    .dataframe thead th {\n",
       "        text-align: right;\n",
       "    }\n",
       "</style>\n",
       "<table border=\"1\" class=\"dataframe\">\n",
       "  <thead>\n",
       "    <tr style=\"text-align: right;\">\n",
       "      <th></th>\n",
       "      <th>client_id</th>\n",
       "      <th>1transactions_count</th>\n",
       "      <th>consommation_level_1_mean</th>\n",
       "      <th>consommation_level_2_mean</th>\n",
       "      <th>consommation_level_3_mean</th>\n",
       "      <th>consommation_level_4_mean</th>\n",
       "    </tr>\n",
       "  </thead>\n",
       "  <tbody>\n",
       "    <tr>\n",
       "      <th>0</th>\n",
       "      <td>train_Client_0</td>\n",
       "      <td>35</td>\n",
       "      <td>352.400000</td>\n",
       "      <td>10.571429</td>\n",
       "      <td>0.000000</td>\n",
       "      <td>0.000000</td>\n",
       "    </tr>\n",
       "    <tr>\n",
       "      <th>1</th>\n",
       "      <td>train_Client_1</td>\n",
       "      <td>37</td>\n",
       "      <td>557.540541</td>\n",
       "      <td>0.000000</td>\n",
       "      <td>0.000000</td>\n",
       "      <td>0.000000</td>\n",
       "    </tr>\n",
       "    <tr>\n",
       "      <th>2</th>\n",
       "      <td>train_Client_10</td>\n",
       "      <td>18</td>\n",
       "      <td>798.611111</td>\n",
       "      <td>37.888889</td>\n",
       "      <td>0.000000</td>\n",
       "      <td>0.000000</td>\n",
       "    </tr>\n",
       "    <tr>\n",
       "      <th>3</th>\n",
       "      <td>train_Client_100</td>\n",
       "      <td>20</td>\n",
       "      <td>1.200000</td>\n",
       "      <td>0.000000</td>\n",
       "      <td>0.000000</td>\n",
       "      <td>0.000000</td>\n",
       "    </tr>\n",
       "    <tr>\n",
       "      <th>4</th>\n",
       "      <td>train_Client_1000</td>\n",
       "      <td>14</td>\n",
       "      <td>663.714286</td>\n",
       "      <td>104.857143</td>\n",
       "      <td>117.357143</td>\n",
       "      <td>36.714286</td>\n",
       "    </tr>\n",
       "  </tbody>\n",
       "</table>\n",
       "</div>"
      ],
      "text/plain": [
       "           client_id  1transactions_count  consommation_level_1_mean  \\\n",
       "0     train_Client_0                   35                 352.400000   \n",
       "1     train_Client_1                   37                 557.540541   \n",
       "2    train_Client_10                   18                 798.611111   \n",
       "3   train_Client_100                   20                   1.200000   \n",
       "4  train_Client_1000                   14                 663.714286   \n",
       "\n",
       "   consommation_level_2_mean  consommation_level_3_mean  \\\n",
       "0                  10.571429                   0.000000   \n",
       "1                   0.000000                   0.000000   \n",
       "2                  37.888889                   0.000000   \n",
       "3                   0.000000                   0.000000   \n",
       "4                 104.857143                 117.357143   \n",
       "\n",
       "   consommation_level_4_mean  \n",
       "0                   0.000000  \n",
       "1                   0.000000  \n",
       "2                   0.000000  \n",
       "3                   0.000000  \n",
       "4                  36.714286  "
      ]
     },
     "execution_count": 44,
     "metadata": {},
     "output_type": "execute_result"
    }
   ],
   "source": [
    "agg_trans.head()"
   ]
  },
  {
   "cell_type": "code",
   "execution_count": 45,
   "id": "44e6cfa9",
   "metadata": {},
   "outputs": [],
   "source": [
    "#Now, we just merge this with out train data\n",
    "train = pd.merge(client_train,agg_trans, on='client_id', how='left')"
   ]
  },
  {
   "cell_type": "code",
   "execution_count": 46,
   "id": "7b4023a3",
   "metadata": {},
   "outputs": [
    {
     "data": {
      "text/html": [
       "<div>\n",
       "<style scoped>\n",
       "    .dataframe tbody tr th:only-of-type {\n",
       "        vertical-align: middle;\n",
       "    }\n",
       "\n",
       "    .dataframe tbody tr th {\n",
       "        vertical-align: top;\n",
       "    }\n",
       "\n",
       "    .dataframe thead th {\n",
       "        text-align: right;\n",
       "    }\n",
       "</style>\n",
       "<table border=\"1\" class=\"dataframe\">\n",
       "  <thead>\n",
       "    <tr style=\"text-align: right;\">\n",
       "      <th></th>\n",
       "      <th>disrict</th>\n",
       "      <th>client_id</th>\n",
       "      <th>client_catg</th>\n",
       "      <th>region</th>\n",
       "      <th>creation_date</th>\n",
       "      <th>target</th>\n",
       "      <th>1transactions_count</th>\n",
       "      <th>consommation_level_1_mean</th>\n",
       "      <th>consommation_level_2_mean</th>\n",
       "      <th>consommation_level_3_mean</th>\n",
       "      <th>consommation_level_4_mean</th>\n",
       "    </tr>\n",
       "  </thead>\n",
       "  <tbody>\n",
       "    <tr>\n",
       "      <th>0</th>\n",
       "      <td>60</td>\n",
       "      <td>train_Client_0</td>\n",
       "      <td>11</td>\n",
       "      <td>101</td>\n",
       "      <td>31/12/1994</td>\n",
       "      <td>0.0</td>\n",
       "      <td>35</td>\n",
       "      <td>352.400000</td>\n",
       "      <td>10.571429</td>\n",
       "      <td>0.000000</td>\n",
       "      <td>0.000000</td>\n",
       "    </tr>\n",
       "    <tr>\n",
       "      <th>1</th>\n",
       "      <td>69</td>\n",
       "      <td>train_Client_1</td>\n",
       "      <td>11</td>\n",
       "      <td>107</td>\n",
       "      <td>29/05/2002</td>\n",
       "      <td>0.0</td>\n",
       "      <td>37</td>\n",
       "      <td>557.540541</td>\n",
       "      <td>0.000000</td>\n",
       "      <td>0.000000</td>\n",
       "      <td>0.000000</td>\n",
       "    </tr>\n",
       "    <tr>\n",
       "      <th>2</th>\n",
       "      <td>62</td>\n",
       "      <td>train_Client_10</td>\n",
       "      <td>11</td>\n",
       "      <td>301</td>\n",
       "      <td>13/03/1986</td>\n",
       "      <td>0.0</td>\n",
       "      <td>18</td>\n",
       "      <td>798.611111</td>\n",
       "      <td>37.888889</td>\n",
       "      <td>0.000000</td>\n",
       "      <td>0.000000</td>\n",
       "    </tr>\n",
       "    <tr>\n",
       "      <th>3</th>\n",
       "      <td>69</td>\n",
       "      <td>train_Client_100</td>\n",
       "      <td>11</td>\n",
       "      <td>105</td>\n",
       "      <td>11/07/1996</td>\n",
       "      <td>0.0</td>\n",
       "      <td>20</td>\n",
       "      <td>1.200000</td>\n",
       "      <td>0.000000</td>\n",
       "      <td>0.000000</td>\n",
       "      <td>0.000000</td>\n",
       "    </tr>\n",
       "    <tr>\n",
       "      <th>4</th>\n",
       "      <td>62</td>\n",
       "      <td>train_Client_1000</td>\n",
       "      <td>11</td>\n",
       "      <td>303</td>\n",
       "      <td>14/10/2014</td>\n",
       "      <td>0.0</td>\n",
       "      <td>14</td>\n",
       "      <td>663.714286</td>\n",
       "      <td>104.857143</td>\n",
       "      <td>117.357143</td>\n",
       "      <td>36.714286</td>\n",
       "    </tr>\n",
       "    <tr>\n",
       "      <th>...</th>\n",
       "      <td>...</td>\n",
       "      <td>...</td>\n",
       "      <td>...</td>\n",
       "      <td>...</td>\n",
       "      <td>...</td>\n",
       "      <td>...</td>\n",
       "      <td>...</td>\n",
       "      <td>...</td>\n",
       "      <td>...</td>\n",
       "      <td>...</td>\n",
       "      <td>...</td>\n",
       "    </tr>\n",
       "    <tr>\n",
       "      <th>135488</th>\n",
       "      <td>62</td>\n",
       "      <td>train_Client_99995</td>\n",
       "      <td>11</td>\n",
       "      <td>304</td>\n",
       "      <td>26/07/2004</td>\n",
       "      <td>0.0</td>\n",
       "      <td>71</td>\n",
       "      <td>1.957746</td>\n",
       "      <td>0.000000</td>\n",
       "      <td>0.000000</td>\n",
       "      <td>0.000000</td>\n",
       "    </tr>\n",
       "    <tr>\n",
       "      <th>135489</th>\n",
       "      <td>63</td>\n",
       "      <td>train_Client_99996</td>\n",
       "      <td>11</td>\n",
       "      <td>311</td>\n",
       "      <td>25/10/2012</td>\n",
       "      <td>0.0</td>\n",
       "      <td>41</td>\n",
       "      <td>185.853659</td>\n",
       "      <td>0.756098</td>\n",
       "      <td>0.000000</td>\n",
       "      <td>0.000000</td>\n",
       "    </tr>\n",
       "    <tr>\n",
       "      <th>135490</th>\n",
       "      <td>63</td>\n",
       "      <td>train_Client_99997</td>\n",
       "      <td>11</td>\n",
       "      <td>311</td>\n",
       "      <td>22/11/2011</td>\n",
       "      <td>0.0</td>\n",
       "      <td>36</td>\n",
       "      <td>273.083333</td>\n",
       "      <td>0.000000</td>\n",
       "      <td>0.000000</td>\n",
       "      <td>0.000000</td>\n",
       "    </tr>\n",
       "    <tr>\n",
       "      <th>135491</th>\n",
       "      <td>60</td>\n",
       "      <td>train_Client_99998</td>\n",
       "      <td>11</td>\n",
       "      <td>101</td>\n",
       "      <td>22/12/1993</td>\n",
       "      <td>0.0</td>\n",
       "      <td>2</td>\n",
       "      <td>300.000000</td>\n",
       "      <td>70.500000</td>\n",
       "      <td>0.000000</td>\n",
       "      <td>0.000000</td>\n",
       "    </tr>\n",
       "    <tr>\n",
       "      <th>135492</th>\n",
       "      <td>60</td>\n",
       "      <td>train_Client_99999</td>\n",
       "      <td>11</td>\n",
       "      <td>101</td>\n",
       "      <td>18/02/1986</td>\n",
       "      <td>0.0</td>\n",
       "      <td>3</td>\n",
       "      <td>459.333333</td>\n",
       "      <td>0.000000</td>\n",
       "      <td>0.000000</td>\n",
       "      <td>0.000000</td>\n",
       "    </tr>\n",
       "  </tbody>\n",
       "</table>\n",
       "<p>135493 rows × 11 columns</p>\n",
       "</div>"
      ],
      "text/plain": [
       "       disrict           client_id client_catg  region creation_date  target  \\\n",
       "0           60      train_Client_0          11     101    31/12/1994     0.0   \n",
       "1           69      train_Client_1          11     107    29/05/2002     0.0   \n",
       "2           62     train_Client_10          11     301    13/03/1986     0.0   \n",
       "3           69    train_Client_100          11     105    11/07/1996     0.0   \n",
       "4           62   train_Client_1000          11     303    14/10/2014     0.0   \n",
       "...        ...                 ...         ...     ...           ...     ...   \n",
       "135488      62  train_Client_99995          11     304    26/07/2004     0.0   \n",
       "135489      63  train_Client_99996          11     311    25/10/2012     0.0   \n",
       "135490      63  train_Client_99997          11     311    22/11/2011     0.0   \n",
       "135491      60  train_Client_99998          11     101    22/12/1993     0.0   \n",
       "135492      60  train_Client_99999          11     101    18/02/1986     0.0   \n",
       "\n",
       "        1transactions_count  consommation_level_1_mean  \\\n",
       "0                        35                 352.400000   \n",
       "1                        37                 557.540541   \n",
       "2                        18                 798.611111   \n",
       "3                        20                   1.200000   \n",
       "4                        14                 663.714286   \n",
       "...                     ...                        ...   \n",
       "135488                   71                   1.957746   \n",
       "135489                   41                 185.853659   \n",
       "135490                   36                 273.083333   \n",
       "135491                    2                 300.000000   \n",
       "135492                    3                 459.333333   \n",
       "\n",
       "        consommation_level_2_mean  consommation_level_3_mean  \\\n",
       "0                       10.571429                   0.000000   \n",
       "1                        0.000000                   0.000000   \n",
       "2                       37.888889                   0.000000   \n",
       "3                        0.000000                   0.000000   \n",
       "4                      104.857143                 117.357143   \n",
       "...                           ...                        ...   \n",
       "135488                   0.000000                   0.000000   \n",
       "135489                   0.756098                   0.000000   \n",
       "135490                   0.000000                   0.000000   \n",
       "135491                  70.500000                   0.000000   \n",
       "135492                   0.000000                   0.000000   \n",
       "\n",
       "        consommation_level_4_mean  \n",
       "0                        0.000000  \n",
       "1                        0.000000  \n",
       "2                        0.000000  \n",
       "3                        0.000000  \n",
       "4                       36.714286  \n",
       "...                           ...  \n",
       "135488                   0.000000  \n",
       "135489                   0.000000  \n",
       "135490                   0.000000  \n",
       "135491                   0.000000  \n",
       "135492                   0.000000  \n",
       "\n",
       "[135493 rows x 11 columns]"
      ]
     },
     "execution_count": 46,
     "metadata": {},
     "output_type": "execute_result"
    }
   ],
   "source": [
    "train"
   ]
  },
  {
   "cell_type": "code",
   "execution_count": 47,
   "id": "726a40aa",
   "metadata": {},
   "outputs": [],
   "source": [
    "agg_trans = invoice_train.groupby(['client_id']).agg(aggs)\n",
    "agg_trans.columns = ['_'.join(col).strip() for col in agg_trans.columns.values]\n",
    "agg_trans.reset_index(inplace=True)\n",
    "\n",
    "df = (invoice_train.groupby('client_id').size().reset_index(name='{}transactions_count'.format('1')))\n",
    "\n",
    "agg_trans = pd.merge(df, agg_trans, on='client_id', how='left')"
   ]
  },
  {
   "cell_type": "code",
   "execution_count": 48,
   "id": "9e2d3e72",
   "metadata": {},
   "outputs": [
    {
     "data": {
      "text/html": [
       "<div>\n",
       "<style scoped>\n",
       "    .dataframe tbody tr th:only-of-type {\n",
       "        vertical-align: middle;\n",
       "    }\n",
       "\n",
       "    .dataframe tbody tr th {\n",
       "        vertical-align: top;\n",
       "    }\n",
       "\n",
       "    .dataframe thead th {\n",
       "        text-align: right;\n",
       "    }\n",
       "</style>\n",
       "<table border=\"1\" class=\"dataframe\">\n",
       "  <thead>\n",
       "    <tr style=\"text-align: right;\">\n",
       "      <th></th>\n",
       "      <th>disrict</th>\n",
       "      <th>client_id</th>\n",
       "      <th>client_catg</th>\n",
       "      <th>region</th>\n",
       "      <th>creation_date</th>\n",
       "      <th>target</th>\n",
       "      <th>1transactions_count</th>\n",
       "      <th>consommation_level_1_mean</th>\n",
       "      <th>consommation_level_2_mean</th>\n",
       "      <th>consommation_level_3_mean</th>\n",
       "      <th>consommation_level_4_mean</th>\n",
       "    </tr>\n",
       "  </thead>\n",
       "  <tbody>\n",
       "    <tr>\n",
       "      <th>73418</th>\n",
       "      <td>63</td>\n",
       "      <td>train_Client_4413</td>\n",
       "      <td>11</td>\n",
       "      <td>311</td>\n",
       "      <td>10/05/2002</td>\n",
       "      <td>1.0</td>\n",
       "      <td>71</td>\n",
       "      <td>251.253521</td>\n",
       "      <td>5.690141</td>\n",
       "      <td>4.732394</td>\n",
       "      <td>0.0</td>\n",
       "    </tr>\n",
       "    <tr>\n",
       "      <th>26460</th>\n",
       "      <td>60</td>\n",
       "      <td>train_Client_123810</td>\n",
       "      <td>11</td>\n",
       "      <td>101</td>\n",
       "      <td>09/09/1999</td>\n",
       "      <td>0.0</td>\n",
       "      <td>32</td>\n",
       "      <td>499.687500</td>\n",
       "      <td>14.500000</td>\n",
       "      <td>0.000000</td>\n",
       "      <td>0.0</td>\n",
       "    </tr>\n",
       "    <tr>\n",
       "      <th>6147</th>\n",
       "      <td>62</td>\n",
       "      <td>train_Client_105529</td>\n",
       "      <td>11</td>\n",
       "      <td>301</td>\n",
       "      <td>11/09/1980</td>\n",
       "      <td>0.0</td>\n",
       "      <td>1</td>\n",
       "      <td>0.000000</td>\n",
       "      <td>0.000000</td>\n",
       "      <td>0.000000</td>\n",
       "      <td>0.0</td>\n",
       "    </tr>\n",
       "    <tr>\n",
       "      <th>18334</th>\n",
       "      <td>60</td>\n",
       "      <td>train_Client_116498</td>\n",
       "      <td>11</td>\n",
       "      <td>101</td>\n",
       "      <td>26/12/1993</td>\n",
       "      <td>0.0</td>\n",
       "      <td>28</td>\n",
       "      <td>127.535714</td>\n",
       "      <td>92.321429</td>\n",
       "      <td>0.000000</td>\n",
       "      <td>0.0</td>\n",
       "    </tr>\n",
       "    <tr>\n",
       "      <th>72159</th>\n",
       "      <td>60</td>\n",
       "      <td>train_Client_42998</td>\n",
       "      <td>11</td>\n",
       "      <td>101</td>\n",
       "      <td>02/05/1980</td>\n",
       "      <td>0.0</td>\n",
       "      <td>31</td>\n",
       "      <td>25.903226</td>\n",
       "      <td>0.000000</td>\n",
       "      <td>0.000000</td>\n",
       "      <td>0.0</td>\n",
       "    </tr>\n",
       "  </tbody>\n",
       "</table>\n",
       "</div>"
      ],
      "text/plain": [
       "      disrict            client_id client_catg  region creation_date  target  \\\n",
       "73418      63    train_Client_4413          11     311    10/05/2002     1.0   \n",
       "26460      60  train_Client_123810          11     101    09/09/1999     0.0   \n",
       "6147       62  train_Client_105529          11     301    11/09/1980     0.0   \n",
       "18334      60  train_Client_116498          11     101    26/12/1993     0.0   \n",
       "72159      60   train_Client_42998          11     101    02/05/1980     0.0   \n",
       "\n",
       "       1transactions_count  consommation_level_1_mean  \\\n",
       "73418                   71                 251.253521   \n",
       "26460                   32                 499.687500   \n",
       "6147                     1                   0.000000   \n",
       "18334                   28                 127.535714   \n",
       "72159                   31                  25.903226   \n",
       "\n",
       "       consommation_level_2_mean  consommation_level_3_mean  \\\n",
       "73418                   5.690141                   4.732394   \n",
       "26460                  14.500000                   0.000000   \n",
       "6147                    0.000000                   0.000000   \n",
       "18334                  92.321429                   0.000000   \n",
       "72159                   0.000000                   0.000000   \n",
       "\n",
       "       consommation_level_4_mean  \n",
       "73418                        0.0  \n",
       "26460                        0.0  \n",
       "6147                         0.0  \n",
       "18334                        0.0  \n",
       "72159                        0.0  "
      ]
     },
     "execution_count": 48,
     "metadata": {},
     "output_type": "execute_result"
    }
   ],
   "source": [
    "train.sample(5)"
   ]
  },
  {
   "cell_type": "code",
   "execution_count": 49,
   "id": "28d1de2e",
   "metadata": {},
   "outputs": [
    {
     "data": {
      "text/plain": [
       "(135493, 11)"
      ]
     },
     "execution_count": 49,
     "metadata": {},
     "output_type": "execute_result"
    }
   ],
   "source": [
    "train.shape"
   ]
  },
  {
   "cell_type": "code",
   "execution_count": 50,
   "id": "1d099ae2",
   "metadata": {},
   "outputs": [
    {
     "name": "stdout",
     "output_type": "stream",
     "text": [
      "[('client_id', 135493), ('consommation_level_1_mean', 94937), ('consommation_level_2_mean', 51696), ('consommation_level_3_mean', 26573), ('consommation_level_4_mean', 16247), ('creation_date', 8088), ('1transactions_count', 260), ('region', 25), ('disrict', 4), ('client_catg', 3), ('target', 2)]\n"
     ]
    }
   ],
   "source": [
    "# To check the unique value - to see if we have to drop any column\n",
    "d={}\n",
    "for col,uniq_val in train.nunique().items():\n",
    "    d[col]=uniq_val\n",
    "print(sorted(d.items(), key=lambda item: item[1], reverse=True))"
   ]
  },
  {
   "cell_type": "markdown",
   "id": "110bdcdb",
   "metadata": {},
   "source": [
    "We can see that the Client_id column is unique so we drop it, becuase it is not going to help in the prediction"
   ]
  },
  {
   "cell_type": "code",
   "execution_count": 51,
   "id": "230022d2",
   "metadata": {},
   "outputs": [],
   "source": [
    "col_to_drop = ['client_id']\n",
    "for col in col_to_drop:\n",
    "    if col in train.columns:\n",
    "        train.drop([col], axis=1, inplace=True)"
   ]
  },
  {
   "cell_type": "code",
   "execution_count": 54,
   "id": "b18c3200",
   "metadata": {},
   "outputs": [],
   "source": [
    "train['creation_date'] = pd.to_datetime(train['creation_date'])"
   ]
  },
  {
   "cell_type": "code",
   "execution_count": 55,
   "id": "a649dd95",
   "metadata": {},
   "outputs": [
    {
     "name": "stdout",
     "output_type": "stream",
     "text": [
      "<class 'pandas.core.frame.DataFrame'>\n",
      "Int64Index: 135493 entries, 0 to 135492\n",
      "Data columns (total 10 columns):\n",
      " #   Column                     Non-Null Count   Dtype         \n",
      "---  ------                     --------------   -----         \n",
      " 0   disrict                    135493 non-null  object        \n",
      " 1   client_catg                135493 non-null  object        \n",
      " 2   region                     135493 non-null  int64         \n",
      " 3   creation_date              135493 non-null  datetime64[ns]\n",
      " 4   target                     135493 non-null  float64       \n",
      " 5   1transactions_count        135493 non-null  int64         \n",
      " 6   consommation_level_1_mean  135493 non-null  float64       \n",
      " 7   consommation_level_2_mean  135493 non-null  float64       \n",
      " 8   consommation_level_3_mean  135493 non-null  float64       \n",
      " 9   consommation_level_4_mean  135493 non-null  float64       \n",
      "dtypes: datetime64[ns](1), float64(5), int64(2), object(2)\n",
      "memory usage: 11.4+ MB\n"
     ]
    }
   ],
   "source": [
    "train.info()"
   ]
  },
  {
   "cell_type": "code",
   "execution_count": 56,
   "id": "9de00381",
   "metadata": {},
   "outputs": [],
   "source": [
    "#Label Encoding\n",
    "from sklearn import preprocessing\n",
    "for f in train.columns:\n",
    "    if train[f].dtype=='object': \n",
    "        lbl = preprocessing.LabelEncoder()\n",
    "        lbl.fit(list(train[f].values))\n",
    "        train[f] = lbl.transform(list(train[f].values))"
   ]
  },
  {
   "cell_type": "code",
   "execution_count": 57,
   "id": "076a6bb5",
   "metadata": {},
   "outputs": [
    {
     "data": {
      "text/plain": [
       "disrict                      0\n",
       "client_catg                  0\n",
       "region                       0\n",
       "creation_date                0\n",
       "target                       0\n",
       "1transactions_count          0\n",
       "consommation_level_1_mean    0\n",
       "consommation_level_2_mean    0\n",
       "consommation_level_3_mean    0\n",
       "consommation_level_4_mean    0\n",
       "dtype: int64"
      ]
     },
     "execution_count": 57,
     "metadata": {},
     "output_type": "execute_result"
    }
   ],
   "source": [
    "train.isnull().sum()"
   ]
  },
  {
   "cell_type": "code",
   "execution_count": 58,
   "id": "a9f37046",
   "metadata": {},
   "outputs": [],
   "source": [
    "# Set X and y\n",
    "target=train['target']\n",
    "train.drop('target',axis=1,inplace=True)\n",
    "y = target\n",
    "X = train"
   ]
  },
  {
   "cell_type": "code",
   "execution_count": 59,
   "id": "4f20b772",
   "metadata": {},
   "outputs": [],
   "source": [
    "# we keep the month and the year data from creation date - for the analysis and oversampling purpose\n",
    "X['creation_month'] = X['creation_date'].apply(lambda x: str(x)[5:7])\n",
    "X['creation_year'] = X['creation_date'].apply(lambda x: str(x)[:4])"
   ]
  },
  {
   "cell_type": "code",
   "execution_count": 60,
   "id": "c2244042",
   "metadata": {},
   "outputs": [],
   "source": [
    "X.drop('creation_date',axis=1,inplace=True)"
   ]
  },
  {
   "cell_type": "code",
   "execution_count": 61,
   "id": "324d5787",
   "metadata": {},
   "outputs": [],
   "source": [
    "# Datatype of the Month and Year is changed to int - for Synthetic oversampling\n",
    "X['creation_month'] = X['creation_month'].astype(int)\n",
    "X['creation_year'] = X['creation_year'].astype(int)"
   ]
  },
  {
   "cell_type": "code",
   "execution_count": 62,
   "id": "164bb279",
   "metadata": {},
   "outputs": [
    {
     "name": "stdout",
     "output_type": "stream",
     "text": [
      "<class 'pandas.core.frame.DataFrame'>\n",
      "Int64Index: 135493 entries, 0 to 135492\n",
      "Data columns (total 10 columns):\n",
      " #   Column                     Non-Null Count   Dtype  \n",
      "---  ------                     --------------   -----  \n",
      " 0   disrict                    135493 non-null  int64  \n",
      " 1   client_catg                135493 non-null  int64  \n",
      " 2   region                     135493 non-null  int64  \n",
      " 3   1transactions_count        135493 non-null  int64  \n",
      " 4   consommation_level_1_mean  135493 non-null  float64\n",
      " 5   consommation_level_2_mean  135493 non-null  float64\n",
      " 6   consommation_level_3_mean  135493 non-null  float64\n",
      " 7   consommation_level_4_mean  135493 non-null  float64\n",
      " 8   creation_month             135493 non-null  int32  \n",
      " 9   creation_year              135493 non-null  int32  \n",
      "dtypes: float64(4), int32(2), int64(4)\n",
      "memory usage: 10.3 MB\n"
     ]
    }
   ],
   "source": [
    "X.info()"
   ]
  },
  {
   "cell_type": "code",
   "execution_count": 66,
   "id": "fb75d4db",
   "metadata": {},
   "outputs": [
    {
     "data": {
      "text/plain": [
       "<AxesSubplot:>"
      ]
     },
     "execution_count": 66,
     "metadata": {},
     "output_type": "execute_result"
    },
    {
     "data": {
      "image/png": "[encoded data removed]",
      "text/plain": [
       "<Figure size 720x720 with 2 Axes>"
      ]
     },
     "metadata": {},
     "output_type": "display_data"
    }
   ],
   "source": [
    "sns.set(rc={'figure.figsize':(10,10)})\n",
    "sns.heatmap(X.corr(), annot=True,vmin=-1,vmax=1)"
   ]
  },
  {
   "cell_type": "markdown",
   "id": "6c958821",
   "metadata": {},
   "source": [
    "We don't see any strong correalation between any column pairs so we don't have to reduce any furthur dimensions"
   ]
  },
  {
   "cell_type": "code",
   "execution_count": 67,
   "id": "16874947",
   "metadata": {},
   "outputs": [
    {
     "name": "stdout",
     "output_type": "stream",
     "text": [
      "Shape of X before SMOTE: (135493, 10)\n",
      "Shape of X after SMOTE: (255854, 10)\n",
      "\n",
      "Balance of positive and negative classes (%):\n"
     ]
    },
    {
     "data": {
      "text/plain": [
       "0.0    50.0\n",
       "1.0    50.0\n",
       "Name: target, dtype: float64"
      ]
     },
     "execution_count": 67,
     "metadata": {},
     "output_type": "execute_result"
    }
   ],
   "source": [
    "from imblearn.over_sampling import SMOTE \n",
    "\n",
    "sm = SMOTE(random_state=123)\n",
    "\n",
    "X_sm, y_sm = sm.fit_resample(X, y)\n",
    "\n",
    "print(f'''Shape of X before SMOTE: {X.shape}\n",
    "Shape of X after SMOTE: {X_sm.shape}''')\n",
    "\n",
    "print('\\nBalance of positive and negative classes (%):')\n",
    "y_sm.value_counts(normalize=True) * 100"
   ]
  },
  {
   "cell_type": "code",
   "execution_count": 68,
   "id": "68ae195b",
   "metadata": {},
   "outputs": [],
   "source": [
    "from sklearn.model_selection import train_test_split\n",
    "# Splitting the data in 70% for train and 30% for test\n",
    "X_train, X_test, y_train, y_test = train_test_split(X_sm, y_sm, test_size=0.3, random_state=123)"
   ]
  },
  {
   "cell_type": "code",
   "execution_count": 80,
   "id": "070372e7",
   "metadata": {},
   "outputs": [
    {
     "name": "stdout",
     "output_type": "stream",
     "text": [
      "{'C': 2, 'max_iter': 150, 'random_state': 42, 'solver': 'liblinear'}\n",
      "Accuracy score : 0.62\n",
      "Recall score : 0.62\n",
      "Precision score : 0.61\n",
      "F1 score : 0.62\n"
     ]
    },
    {
     "data": {
      "image/png": "[encoded data removed]",
      "text/plain": [
       "<Figure size 504x504 with 2 Axes>"
      ]
     },
     "metadata": {},
     "output_type": "display_data"
    }
   ],
   "source": [
    "#Logistic Regression\n",
    "from sklearn.model_selection import GridSearchCV\n",
    "from sklearn.linear_model import LogisticRegression\n",
    "param_grid = {'C':[0.01, 0.1,0.2,0.25,0.3,0.4, 1, 2],'max_iter': [150,200,250, 300, 1000,1500], 'random_state':[42], 'solver':['liblinear'] } \n",
    "lr = LogisticRegression()\n",
    "lr_cv = GridSearchCV(lr, param_grid, cv=10)\n",
    "lr_cv.fit(X_train, y_train)\n",
    "print(lr_cv.best_params_)\n",
    "lrpre=lr_cv.predict(X_test)\n",
    "lrcm = confusion_matrix(y_test,lrpre)\n",
    "#print(lr_cv.score(X_test, Y_test))\n",
    "print(\"Accuracy score : {:.2f}\".format(accuracy_score(lrpre,y_test)))\n",
    "print(\"Recall score : {:.2f}\".format(recall_score(lrpre,y_test,average='macro',zero_division=True)))\n",
    "print(\"Precision score : {:.2f}\".format(precision_score(lrpre,y_test,zero_division = True)))\n",
    "print(\"F1 score : {:.2f}\".format(f1_score(lrpre,y_test,zero_division=True)))\n",
    "dis = ConfusionMatrixDisplay(lrcm,display_labels=[\"Not Leaving Job\",\"Leaving Job\"])\n",
    "dis.plot()\n",
    "plt.show()"
   ]
  },
  {
   "cell_type": "code",
   "execution_count": 83,
   "id": "ae5890a4",
   "metadata": {},
   "outputs": [
    {
     "name": "stdout",
     "output_type": "stream",
     "text": [
      "{'n_neighbors': 4, 'p': 1}\n",
      "Accuracy score : 0.90\n",
      "Recall score : 0.91\n",
      "Precision score : 0.98\n",
      "F1 score : 0.91\n"
     ]
    },
    {
     "data": {
      "image/png": "[encoded data removed]",
      "text/plain": [
       "<Figure size 504x504 with 2 Axes>"
      ]
     },
     "metadata": {},
     "output_type": "display_data"
    }
   ],
   "source": [
    "from sklearn.neighbors import KNeighborsClassifier\n",
    "param_grid = {'n_neighbors': np.arange(3,10), 'p':[1,2]}\n",
    "knn = KNeighborsClassifier()\n",
    "knn_cv = GridSearchCV(knn, param_grid, cv=5)\n",
    "knn_cv.fit(X_train, y_train)\n",
    "print(knn_cv.best_params_)\n",
    "knnpre = knn_cv.predict(X_test)\n",
    "knncm = confusion_matrix(y_test,knnpre)\n",
    "print(\"Accuracy score : {:.2f}\".format(accuracy_score(knnpre,y_test)))\n",
    "print(\"Recall score : {:.2f}\".format(recall_score(knnpre,y_test,average='macro',zero_division=True)))\n",
    "print(\"Precision score : {:.2f}\".format(precision_score(knnpre,y_test,zero_division = True)))\n",
    "print(\"F1 score : {:.2f}\".format(f1_score(knnpre,y_test,zero_division=True)))\n",
    "dis = ConfusionMatrixDisplay(knncm,display_labels=[\"Not Leaving Job\",\"Leaving Job\"])\n",
    "dis.plot()\n",
    "plt.show()"
   ]
  },
  {
   "cell_type": "code",
   "execution_count": 84,
   "id": "fcdeeca1",
   "metadata": {},
   "outputs": [],
   "source": [
    "# it is no surprise KNN performs very well, because we have used SMOTE to create a large set of data points synthetically"
   ]
  },
  {
   "cell_type": "code",
   "execution_count": 91,
   "id": "d10894d9",
   "metadata": {},
   "outputs": [
    {
     "name": "stdout",
     "output_type": "stream",
     "text": [
      "{'max_depth': 7, 'max_features': 3, 'min_samples_leaf': 8, 'n_estimators': 50}\n",
      "Accuracy score : 0.75\n",
      "Recall score : 0.75\n",
      "Precision score : 0.80\n",
      "F1 score : 0.76\n"
     ]
    },
    {
     "data": {
      "image/png": "[encoded data removed]",
      "text/plain": [
       "<Figure size 504x504 with 2 Axes>"
      ]
     },
     "metadata": {},
     "output_type": "display_data"
    }
   ],
   "source": [
    "#Random Forest\n",
    "from sklearn.ensemble import RandomForestClassifier\n",
    "param_grid = {'n_estimators':[25,50,75],'max_features': [3,4,5], 'max_depth':[5,6,7], 'min_samples_leaf':[8,9,10,11]} \n",
    "rf = RandomForestClassifier(n_jobs=-1)\n",
    "rf_cv =  GridSearchCV(rf, param_grid)\n",
    "rf_cv.fit(X_train, y_train)\n",
    "print(rf_cv.best_params_)\n",
    "rfpre = rf_cv.predict(X_test)\n",
    "#print(rf_cv.score(X_test, Y_test))\n",
    "rfcm = confusion_matrix(y_test,rfpre)\n",
    "print(\"Accuracy score : {:.2f}\".format(accuracy_score(rfpre,y_test)))\n",
    "print(\"Recall score : {:.2f}\".format(recall_score(rfpre,y_test,average='macro',zero_division=True)))\n",
    "print(\"Precision score : {:.2f}\".format(precision_score(rfpre,y_test,zero_division = True)))\n",
    "print(\"F1 score : {:.2f}\".format(f1_score(rfpre,y_test,zero_division=True)))\n",
    "dis = ConfusionMatrixDisplay(rfcm,display_labels=[\"Not Fraud\",\"Fraud\"])\n",
    "dis.plot()\n",
    "plt.show()"
   ]
  },
  {
   "cell_type": "code",
   "execution_count": 89,
   "id": "5359b21e",
   "metadata": {},
   "outputs": [
    {
     "name": "stdout",
     "output_type": "stream",
     "text": [
      "{'max_depth': 8, 'max_features': 5, 'min_samples_leaf': 10}\n",
      "Accuracy score : 0.73\n",
      "Recall score : 0.73\n",
      "Precision score : 0.77\n",
      "F1 score : 0.74\n"
     ]
    },
    {
     "data": {
      "image/png": "[encoded data removed]",
      "text/plain": [
       "<Figure size 504x504 with 2 Axes>"
      ]
     },
     "metadata": {},
     "output_type": "display_data"
    }
   ],
   "source": [
    "#Decision Tree\n",
    "from sklearn.tree import DecisionTreeClassifier\n",
    "param_grid = {'max_features': [3,4,5], 'max_depth':[5,6,7,8], 'min_samples_leaf':[8,9,10,11]} \n",
    "dt = DecisionTreeClassifier()\n",
    "dt_cv =  GridSearchCV(dt, param_grid)\n",
    "dt_cv.fit(X_train, y_train)\n",
    "print(dt_cv.best_params_)\n",
    "dtpre = dt_cv.predict(X_test)\n",
    "#print(dt_cv.score(X_test, Y_test))\n",
    "dtcm = confusion_matrix(y_test,dtpre)\n",
    "print(\"Accuracy score : {:.2f}\".format(accuracy_score(dtpre,y_test)))\n",
    "print(\"Recall score : {:.2f}\".format(recall_score(dtpre,y_test,average='macro',zero_division=True)))\n",
    "print(\"Precision score : {:.2f}\".format(precision_score(dtpre,y_test,zero_division = True)))\n",
    "print(\"F1 score : {:.2f}\".format(f1_score(dtpre,y_test,zero_division=True)))\n",
    "dis = ConfusionMatrixDisplay(dtcm,display_labels=[\"Not Fraud\",\"Fraud\"])\n",
    "dis.plot()\n",
    "plt.show()"
   ]
  },
  {
   "cell_type": "code",
   "execution_count": 111,
   "id": "395edd83",
   "metadata": {},
   "outputs": [
    {
     "name": "stdout",
     "output_type": "stream",
     "text": [
      "0.9356931615357557\n"
     ]
    }
   ],
   "source": [
    "import lightgbm as lgb\n",
    "from lightgbm import LGBMClassifier\n",
    "\n",
    "# Creating an object for model and fitting it on training data set\n",
    "model = LGBMClassifier(boosting_type='gbdt', class_weight=None, learning_rate=0.2, n_estimators=5000)\n",
    "model.fit(X_train, y_train)\n",
    " \n",
    "# Predicting the Target variable\n",
    "pred = model.predict(X_test)\n",
    "accuracy = model.score(X_test, y_test)\n",
    "print(accuracy)"
   ]
  },
  {
   "cell_type": "code",
   "execution_count": 112,
   "id": "d27b4b28",
   "metadata": {},
   "outputs": [
    {
     "name": "stdout",
     "output_type": "stream",
     "text": [
      "Accuracy score : 0.94\n",
      "Recall score : 0.94\n",
      "Precision score : 0.96\n",
      "F1 score : 0.94\n"
     ]
    },
    {
     "data": {
      "image/png": "[encoded data removed]",
      "text/plain": [
       "<Figure size 504x504 with 2 Axes>"
      ]
     },
     "metadata": {},
     "output_type": "display_data"
    }
   ],
   "source": [
    "from sklearn.metrics import accuracy_score\n",
    "from sklearn.metrics import precision_score\n",
    "from sklearn.metrics import recall_score\n",
    "from sklearn.metrics import f1_score\n",
    "from sklearn.metrics import recall_score,precision_score,ConfusionMatrixDisplay,roc_auc_score,confusion_matrix\n",
    "from sklearn.metrics import plot_confusion_matrix \n",
    "sns.set(rc={'figure.figsize':(7,7)})\n",
    "print(\"Accuracy score : {:.2f}\".format(accuracy_score(pred,y_test)))\n",
    "print(\"Recall score : {:.2f}\".format(recall_score(pred,y_test,average='macro',zero_division=True)))\n",
    "print(\"Precision score : {:.2f}\".format(precision_score(pred,y_test,zero_division = True)))\n",
    "print(\"F1 score : {:.2f}\".format(f1_score(pred,y_test,zero_division=True)))\n",
    "disp = plot_confusion_matrix(model,X_test,y_test,display_labels=[\"Not Fraud\",\"Fraud\"])\n",
    "plt.show()\n",
    "\n"
   ]
  },
  {
   "cell_type": "code",
   "execution_count": null,
   "id": "b8547272",
   "metadata": {},
   "outputs": [],
   "source": []
  }
 ],
 "metadata": {
  "kernelspec": {
   "display_name": "Python 3 (ipykernel)",
   "language": "python",
   "name": "python3"
  },
  "language_info": {
   "codemirror_mode": {
    "name": "ipython",
    "version": 3
   },
   "file_extension": ".py",
   "mimetype": "text/x-python",
   "name": "python",
   "nbconvert_exporter": "python",
   "pygments_lexer": "ipython3",
   "version": "3.9.12"
  }
 },
 "nbformat": 4,
 "nbformat_minor": 5
}
