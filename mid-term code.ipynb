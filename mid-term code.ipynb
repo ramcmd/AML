{
 "cells": [
  {
   "cell_type": "code",
   "execution_count": 1,
   "metadata": {},
   "outputs": [],
   "source": [
    "import pandas as pd\n",
    "import numpy as np\n",
    "import os"
   ]
  },
  {
   "cell_type": "code",
   "execution_count": 4,
   "metadata": {},
   "outputs": [],
   "source": [
    "# low memory is set to false to evade warnings from the compiler\n",
    "\n",
    "os.chdir('D:/Stevens/1st sem/Applied ML/Final Project/train')\n",
    "client_train = pd.read_csv(\"client_train.csv\", low_memory=False)\n",
    "invoice_train = pd.read_csv('invoice_train.csv', low_memory=False)\n",
    "os.chdir('D:/Stevens/1st sem/Applied ML/Final Project/test')\n",
    "client_test = pd.read_csv(\"client_test.csv\", low_memory=False)\n",
    "invoice_test = pd.read_csv('invoice_test.csv', low_memory=False)"
   ]
  },
  {
   "cell_type": "code",
   "execution_count": 6,
   "metadata": {},
   "outputs": [
    {
     "data": {
      "text/plain": [
       "target\n",
       "0.0    0.944159\n",
       "1.0    0.055841\n",
       "Name: client_id, dtype: float64"
      ]
     },
     "execution_count": 6,
     "metadata": {},
     "output_type": "execute_result"
    }
   ],
   "source": [
    "client_train.groupby(['target'])['client_id'].count()/len(client_train)\n",
    "\n",
    "# we can see that almost 94.4 % of the data has the label 0 and around 5% of the data has the label 1. \n",
    "# Hence we need to upsample the data to train and model the data"
   ]
  },
  {
   "cell_type": "code",
   "execution_count": 14,
   "metadata": {},
   "outputs": [
    {
     "name": "stdout",
     "output_type": "stream",
     "text": [
      "disrict          0\n",
      "client_id        0\n",
      "client_catg      0\n",
      "region           0\n",
      "creation_date    0\n",
      "target           0\n",
      "dtype: int64\n",
      "disrict          0\n",
      "client_id        0\n",
      "client_catg      0\n",
      "region           0\n",
      "creation_date    0\n",
      "dtype: int64\n",
      "client_id               0\n",
      "invoice_date            0\n",
      "tarif_type              0\n",
      "counter_number          0\n",
      "counter_statue          0\n",
      "counter_code            0\n",
      "reading_remarque        0\n",
      "counter_coefficient     0\n",
      "consommation_level_1    0\n",
      "consommation_level_2    0\n",
      "consommation_level_3    0\n",
      "consommation_level_4    0\n",
      "old_index               0\n",
      "new_index               0\n",
      "months_number           0\n",
      "counter_type            0\n",
      "dtype: int64\n",
      "client_id               0\n",
      "invoice_date            0\n",
      "tarif_type              0\n",
      "counter_number          0\n",
      "counter_statue          0\n",
      "counter_code            0\n",
      "reading_remarque        0\n",
      "counter_coefficient     0\n",
      "consommation_level_1    0\n",
      "consommation_level_2    0\n",
      "consommation_level_3    0\n",
      "consommation_level_4    0\n",
      "old_index               0\n",
      "new_index               0\n",
      "months_number           0\n",
      "counter_type            0\n",
      "dtype: int64\n"
     ]
    }
   ],
   "source": [
    "print(client_train.isna().sum())\n",
    "print(client_test.isna().sum())\n",
    "print(invoice_train.isna().sum())\n",
    "print(invoice_test.isna().sum())\n",
    "# from the data, we can see that we dont have any missing values"
   ]
  },
  {
   "cell_type": "code",
   "execution_count": null,
   "metadata": {},
   "outputs": [],
   "source": [
    "client_train['client_catg'] = client_train['client_catg'].astype('category')\n",
    "client_train['disrict'] = client_train['disrict'].astype('category')\n",
    "client_train['region'] = client_train['region'].astype('category')\n",
    "# client_train['region_group'] = client_train['region'].apply(lambda x: 100 if x<100 else 300 if x>300 else 200)\n",
    "client_train['creation_date'] = pd.to_datetime(client_train['creation_date'])\n",
    "\n",
    "# client_train['coop_time'] = (2019 - client_train['creation_date'].dt.year)*12 - client_train['creation_date'].dt.month\n",
    "\n",
    "invoice_train['counter_type'] = invoice_train['counter_type'].map({\"ELEC\":1,\"GAZ\":0})\n",
    "invoice_train['counter_statue'] = invoice_train['counter_statue'].map({0:0,1:1,2:2,3:3,4:4,5:5,769:5,'0':0,'5':5,'1':1,'4':4,'A':0,618:5,269375:5,46:5,420:5})\n",
    "\n",
    "invoice_train['invoice_date'] = pd.to_datetime(invoice_train['invoice_date'], dayfirst=True)\n",
    "invoice_train['invoice_month'] = invoice_train['invoice_date'].dt.month\n",
    "invoice_train['invoice_year'] = invoice_train['invoice_date'].dt.year\n",
    "invoice_train['is_weekday'] = ((pd.DatetimeIndex(invoice_train.invoice_date).dayofweek) // 5 == 1).astype(float)\n",
    "invoice_train['delta_index'] = invoice_train['new_index'] - invoice_train['old_index']\n"
   ]
  },
  {
   "cell_type": "code",
   "execution_count": null,
   "metadata": {},
   "outputs": [],
   "source": [
    "ji"
   ]
  }
 ],
 "metadata": {
  "kernelspec": {
   "display_name": "Python 3",
   "language": "python",
   "name": "python3"
  },
  "language_info": {
   "codemirror_mode": {
    "name": "ipython",
    "version": 3
   },
   "file_extension": ".py",
   "mimetype": "text/x-python",
   "name": "python",
   "nbconvert_exporter": "python",
   "pygments_lexer": "ipython3",
   "version": "3.8.5"
  }
 },
 "nbformat": 4,
 "nbformat_minor": 4
}
